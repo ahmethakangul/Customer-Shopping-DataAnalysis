{
 "cells": [
  {
   "attachments": {},
   "cell_type": "markdown",
   "metadata": {},
   "source": [
    "# Customer Shopping Exploratory Data Analysis (EDA)"
   ]
  },
  {
   "attachments": {},
   "cell_type": "markdown",
   "metadata": {},
   "source": [
    "### Information for the dataset\n",
    "\n",
    "In this notebook, we will explore the dataset of customer shopping. The dataset is taken from [Kaggle](https://www.kaggle.com/datasets/mehmettahiraslan/customer-shopping-dataset). The dataset contains 1000 rows and 10 columns. The dataset contains the following columns:\n",
    "\n",
    "Content Attribute Information:\n",
    "\n",
    "- invoice_no: Invoice number. Nominal. A combination of the letter 'I' and a 6-digit integer uniquely assigned to each operation.\n",
    "\n",
    "- customer_id: Customer number. Nominal. A combination of the letter 'C' and a 6-digit integer uniquely assigned to each operation.\n",
    "\n",
    "- gender: String variable of the customer's gender.\n",
    "\n",
    "- age: Positive Integer variable of the customers age.\n",
    "\n",
    "- category: String variable of the category of the purchased product.\n",
    "\n",
    "- quantity: The quantities of each product (item) per transaction. Numeric.\n",
    "\n",
    "- price: Unit price. Numeric. Product price per unit in Turkish Liras (TL).\n",
    "\n",
    "- payment_method: String variable of the payment method (cash, credit card or debit card) used for the transaction.\n",
    "\n",
    "- invoice_date: Invoice date. The day when a transaction was generated.\n",
    "\n",
    "- shopping_mall: String variable of the name of the shopping mall where the transaction was made"
   ]
  },
  {
   "attachments": {},
   "cell_type": "markdown",
   "metadata": {},
   "source": [
    "## İmporting Libraries and Dataset"
   ]
  },
  {
   "cell_type": "code",
   "execution_count": 2,
   "metadata": {},
   "outputs": [
    {
     "data": {
      "text/html": [
       "<div>\n",
       "<style scoped>\n",
       "    .dataframe tbody tr th:only-of-type {\n",
       "        vertical-align: middle;\n",
       "    }\n",
       "\n",
       "    .dataframe tbody tr th {\n",
       "        vertical-align: top;\n",
       "    }\n",
       "\n",
       "    .dataframe thead th {\n",
       "        text-align: right;\n",
       "    }\n",
       "</style>\n",
       "<table border=\"1\" class=\"dataframe\">\n",
       "  <thead>\n",
       "    <tr style=\"text-align: right;\">\n",
       "      <th></th>\n",
       "      <th>invoice_no</th>\n",
       "      <th>customer_id</th>\n",
       "      <th>gender</th>\n",
       "      <th>age</th>\n",
       "      <th>category</th>\n",
       "      <th>quantity</th>\n",
       "      <th>price</th>\n",
       "      <th>payment_method</th>\n",
       "      <th>invoice_date</th>\n",
       "      <th>shopping_mall</th>\n",
       "    </tr>\n",
       "  </thead>\n",
       "  <tbody>\n",
       "    <tr>\n",
       "      <th>0</th>\n",
       "      <td>I138884</td>\n",
       "      <td>C241288</td>\n",
       "      <td>Female</td>\n",
       "      <td>28</td>\n",
       "      <td>Clothing</td>\n",
       "      <td>5</td>\n",
       "      <td>1500.40</td>\n",
       "      <td>Credit Card</td>\n",
       "      <td>5/8/2022</td>\n",
       "      <td>Kanyon</td>\n",
       "    </tr>\n",
       "    <tr>\n",
       "      <th>1</th>\n",
       "      <td>I317333</td>\n",
       "      <td>C111565</td>\n",
       "      <td>Male</td>\n",
       "      <td>21</td>\n",
       "      <td>Shoes</td>\n",
       "      <td>3</td>\n",
       "      <td>1800.51</td>\n",
       "      <td>Debit Card</td>\n",
       "      <td>12/12/2021</td>\n",
       "      <td>Forum Istanbul</td>\n",
       "    </tr>\n",
       "    <tr>\n",
       "      <th>2</th>\n",
       "      <td>I127801</td>\n",
       "      <td>C266599</td>\n",
       "      <td>Male</td>\n",
       "      <td>20</td>\n",
       "      <td>Clothing</td>\n",
       "      <td>1</td>\n",
       "      <td>300.08</td>\n",
       "      <td>Cash</td>\n",
       "      <td>9/11/2021</td>\n",
       "      <td>Metrocity</td>\n",
       "    </tr>\n",
       "    <tr>\n",
       "      <th>3</th>\n",
       "      <td>I173702</td>\n",
       "      <td>C988172</td>\n",
       "      <td>Female</td>\n",
       "      <td>66</td>\n",
       "      <td>Shoes</td>\n",
       "      <td>5</td>\n",
       "      <td>3000.85</td>\n",
       "      <td>Credit Card</td>\n",
       "      <td>16/05/2021</td>\n",
       "      <td>Metropol AVM</td>\n",
       "    </tr>\n",
       "    <tr>\n",
       "      <th>4</th>\n",
       "      <td>I337046</td>\n",
       "      <td>C189076</td>\n",
       "      <td>Female</td>\n",
       "      <td>53</td>\n",
       "      <td>Books</td>\n",
       "      <td>4</td>\n",
       "      <td>60.60</td>\n",
       "      <td>Cash</td>\n",
       "      <td>24/10/2021</td>\n",
       "      <td>Kanyon</td>\n",
       "    </tr>\n",
       "  </tbody>\n",
       "</table>\n",
       "</div>"
      ],
      "text/plain": [
       "  invoice_no customer_id  gender  age  category  quantity    price  \\\n",
       "0    I138884     C241288  Female   28  Clothing         5  1500.40   \n",
       "1    I317333     C111565    Male   21     Shoes         3  1800.51   \n",
       "2    I127801     C266599    Male   20  Clothing         1   300.08   \n",
       "3    I173702     C988172  Female   66     Shoes         5  3000.85   \n",
       "4    I337046     C189076  Female   53     Books         4    60.60   \n",
       "\n",
       "  payment_method invoice_date   shopping_mall  \n",
       "0    Credit Card     5/8/2022          Kanyon  \n",
       "1     Debit Card   12/12/2021  Forum Istanbul  \n",
       "2           Cash    9/11/2021       Metrocity  \n",
       "3    Credit Card   16/05/2021    Metropol AVM  \n",
       "4           Cash   24/10/2021          Kanyon  "
      ]
     },
     "execution_count": 2,
     "metadata": {},
     "output_type": "execute_result"
    }
   ],
   "source": [
    "#We will import the necessary libraries for the analysis. We will use pandas for data manipulation, numpy for numerical calculations, and matplotlib for data visualization.\n",
    "\n",
    "import pandas as pd\n",
    "import numpy as np\n",
    "import matplotlib.pyplot as plt\n",
    "\n",
    "#We will import the dataset and store it in a variable called data. We will use the read_csv function from pandas to read the csv file.\n",
    "\n",
    "data = pd.read_csv('customer_shopping_data.csv')\n",
    "\n",
    "#We will use the head function to display the first 5 rows of the dataset.\n",
    "\n",
    "data.head()"
   ]
  },
  {
   "attachments": {},
   "cell_type": "markdown",
   "metadata": {},
   "source": [
    "## Let's start"
   ]
  },
  {
   "cell_type": "code",
   "execution_count": 4,
   "metadata": {},
   "outputs": [
    {
     "data": {
      "text/html": [
       "<div>\n",
       "<style scoped>\n",
       "    .dataframe tbody tr th:only-of-type {\n",
       "        vertical-align: middle;\n",
       "    }\n",
       "\n",
       "    .dataframe tbody tr th {\n",
       "        vertical-align: top;\n",
       "    }\n",
       "\n",
       "    .dataframe thead th {\n",
       "        text-align: right;\n",
       "    }\n",
       "</style>\n",
       "<table border=\"1\" class=\"dataframe\">\n",
       "  <thead>\n",
       "    <tr style=\"text-align: right;\">\n",
       "      <th></th>\n",
       "      <th>count</th>\n",
       "      <th>mean</th>\n",
       "      <th>std</th>\n",
       "      <th>min</th>\n",
       "      <th>25%</th>\n",
       "      <th>50%</th>\n",
       "      <th>75%</th>\n",
       "      <th>max</th>\n",
       "    </tr>\n",
       "  </thead>\n",
       "  <tbody>\n",
       "    <tr>\n",
       "      <th>age</th>\n",
       "      <td>99457.0</td>\n",
       "      <td>43.427089</td>\n",
       "      <td>14.990054</td>\n",
       "      <td>18.00</td>\n",
       "      <td>30.00</td>\n",
       "      <td>43.0</td>\n",
       "      <td>56.00</td>\n",
       "      <td>69.0</td>\n",
       "    </tr>\n",
       "    <tr>\n",
       "      <th>quantity</th>\n",
       "      <td>99457.0</td>\n",
       "      <td>3.003429</td>\n",
       "      <td>1.413025</td>\n",
       "      <td>1.00</td>\n",
       "      <td>2.00</td>\n",
       "      <td>3.0</td>\n",
       "      <td>4.00</td>\n",
       "      <td>5.0</td>\n",
       "    </tr>\n",
       "    <tr>\n",
       "      <th>price</th>\n",
       "      <td>99457.0</td>\n",
       "      <td>689.256322</td>\n",
       "      <td>941.184567</td>\n",
       "      <td>5.23</td>\n",
       "      <td>45.45</td>\n",
       "      <td>203.3</td>\n",
       "      <td>1200.32</td>\n",
       "      <td>5250.0</td>\n",
       "    </tr>\n",
       "  </tbody>\n",
       "</table>\n",
       "</div>"
      ],
      "text/plain": [
       "            count        mean         std    min    25%    50%      75%  \\\n",
       "age       99457.0   43.427089   14.990054  18.00  30.00   43.0    56.00   \n",
       "quantity  99457.0    3.003429    1.413025   1.00   2.00    3.0     4.00   \n",
       "price     99457.0  689.256322  941.184567   5.23  45.45  203.3  1200.32   \n",
       "\n",
       "             max  \n",
       "age         69.0  \n",
       "quantity     5.0  \n",
       "price     5250.0  "
      ]
     },
     "execution_count": 4,
     "metadata": {},
     "output_type": "execute_result"
    }
   ],
   "source": [
    "#We will use the describe function to get a statistical summary of the dataset.\".T is used to transpose the data.\"\n",
    "\n",
    "data.describe().T\n"
   ]
  },
  {
   "cell_type": "code",
   "execution_count": 5,
   "metadata": {},
   "outputs": [
    {
     "name": "stdout",
     "output_type": "stream",
     "text": [
      "<class 'pandas.core.frame.DataFrame'>\n",
      "RangeIndex: 99457 entries, 0 to 99456\n",
      "Data columns (total 10 columns):\n",
      " #   Column          Non-Null Count  Dtype  \n",
      "---  ------          --------------  -----  \n",
      " 0   invoice_no      99457 non-null  object \n",
      " 1   customer_id     99457 non-null  object \n",
      " 2   gender          99457 non-null  object \n",
      " 3   age             99457 non-null  int64  \n",
      " 4   category        99457 non-null  object \n",
      " 5   quantity        99457 non-null  int64  \n",
      " 6   price           99457 non-null  float64\n",
      " 7   payment_method  99457 non-null  object \n",
      " 8   invoice_date    99457 non-null  object \n",
      " 9   shopping_mall   99457 non-null  object \n",
      "dtypes: float64(1), int64(2), object(7)\n",
      "memory usage: 7.6+ MB\n",
      "****************************************************************************************************\n"
     ]
    },
    {
     "data": {
      "text/plain": [
       "invoice_no        0\n",
       "customer_id       0\n",
       "gender            0\n",
       "age               0\n",
       "category          0\n",
       "quantity          0\n",
       "price             0\n",
       "payment_method    0\n",
       "invoice_date      0\n",
       "shopping_mall     0\n",
       "dtype: int64"
      ]
     },
     "execution_count": 5,
     "metadata": {},
     "output_type": "execute_result"
    }
   ],
   "source": [
    "#We will use the info function to get a concise summary of the dataset.\n",
    "\n",
    "data.info() \n",
    "\n",
    "print(\"*\"*100)\n",
    "#We will use the isnull function to check for missing values in the dataset.\n",
    "\n",
    "data.isnull().sum()"
   ]
  },
  {
   "cell_type": "code",
   "execution_count": 6,
   "metadata": {},
   "outputs": [
    {
     "data": {
      "text/plain": [
       "invoice_no  customer_id  gender  age  category         quantity  price    payment_method  invoice_date  shopping_mall    \n",
       "I100008     C199951      Male    65   Clothing         5         1500.40  Cash            10/7/2022     Emaar Square Mall    1\n",
       "I312466     C139574      Female  67   Clothing         4         1200.32  Credit Card     22/09/2021    Kanyon               1\n",
       "I312529     C419632      Female  35   Food & Beverage  2         10.46    Credit Card     6/11/2021     Viaport Outlet       1\n",
       "I312524     C123511      Female  68   Clothing         5         1500.40  Cash            5/2/2021      Zorlu Center         1\n",
       "I312523     C248293      Male    35   Technology       1         1050.00  Cash            23/04/2022    Kanyon               1\n",
       "                                                                                                                            ..\n",
       "I206379     C272482      Male    31   Shoes            2         1200.34  Debit Card      8/9/2022      Metrocity            1\n",
       "I206377     C238664      Male    38   Food & Beverage  5         26.15    Credit Card     23/02/2021    Kanyon               1\n",
       "I206375     C326234      Male    43   Cosmetics        3         121.98   Cash            30/10/2021    Istinye Park         1\n",
       "I206374     C307052      Male    45   Food & Beverage  4         20.92    Credit Card     6/9/2022      Mall of Istanbul     1\n",
       "I999994     C299697      Female  21   Technology       3         3150.00  Cash            9/4/2021      Kanyon               1\n",
       "Length: 99457, dtype: int64"
      ]
     },
     "execution_count": 6,
     "metadata": {},
     "output_type": "execute_result"
    }
   ],
   "source": [
    "#We will use the value_counts function to get the count of unique values in the dataset.\n",
    "\n",
    "data.value_counts()"
   ]
  },
  {
   "cell_type": "code",
   "execution_count": 7,
   "metadata": {},
   "outputs": [
    {
     "data": {
      "text/plain": [
       "invoice_no        99457\n",
       "customer_id       99457\n",
       "gender                2\n",
       "age                  52\n",
       "category              8\n",
       "quantity              5\n",
       "price                41\n",
       "payment_method        3\n",
       "invoice_date        797\n",
       "shopping_mall        10\n",
       "dtype: int64"
      ]
     },
     "execution_count": 7,
     "metadata": {},
     "output_type": "execute_result"
    }
   ],
   "source": [
    "#We will use the nuninque function to get the number of unique values in each column.\n",
    "\n",
    "data.nunique()"
   ]
  },
  {
   "cell_type": "code",
   "execution_count": 8,
   "metadata": {},
   "outputs": [],
   "source": [
    "#We will use the drop_duplicates function to remove duplicate rows from the dataset.\n",
    "\n",
    "data.drop_duplicates(inplace=True)"
   ]
  },
  {
   "cell_type": "code",
   "execution_count": 9,
   "metadata": {},
   "outputs": [
    {
     "data": {
      "text/plain": [
       "(99457, 10)"
      ]
     },
     "execution_count": 9,
     "metadata": {},
     "output_type": "execute_result"
    }
   ],
   "source": [
    "#We will use the shape function to get the number of rows and columns in the dataset.\n",
    "\n",
    "data.shape"
   ]
  },
  {
   "cell_type": "code",
   "execution_count": 10,
   "metadata": {},
   "outputs": [],
   "source": [
    "#We will use the drop function to remove the columns that are not needed for the analysis.\n",
    "\n",
    "data.drop(['invoice_no','customer_id'],axis=1,inplace=True)"
   ]
  },
  {
   "cell_type": "code",
   "execution_count": 11,
   "metadata": {},
   "outputs": [],
   "source": [
    "\"\"\" \n",
    "This function categorizes ages into three groups based on the input value\n",
    "'age' is less than or equal to 30 --> young\n",
    "'age' is greater than 30 less than or equal to 50 --> middle\n",
    "'age' is greater than 50 --> old\n",
    "\"\"\"\n",
    "def age_cat(age):\n",
    "    if age <=30:\n",
    "        age= 'young'\n",
    "    elif age >30 and age <=50:\n",
    "        age= 'middle'\n",
    "    else:\n",
    "        age= 'old'\n",
    "    return age"
   ]
  },
  {
   "cell_type": "code",
   "execution_count": 12,
   "metadata": {},
   "outputs": [
    {
     "data": {
      "text/html": [
       "<div>\n",
       "<style scoped>\n",
       "    .dataframe tbody tr th:only-of-type {\n",
       "        vertical-align: middle;\n",
       "    }\n",
       "\n",
       "    .dataframe tbody tr th {\n",
       "        vertical-align: top;\n",
       "    }\n",
       "\n",
       "    .dataframe thead th {\n",
       "        text-align: right;\n",
       "    }\n",
       "</style>\n",
       "<table border=\"1\" class=\"dataframe\">\n",
       "  <thead>\n",
       "    <tr style=\"text-align: right;\">\n",
       "      <th></th>\n",
       "      <th>gender</th>\n",
       "      <th>age</th>\n",
       "      <th>category</th>\n",
       "      <th>quantity</th>\n",
       "      <th>price</th>\n",
       "      <th>payment_method</th>\n",
       "      <th>invoice_date</th>\n",
       "      <th>shopping_mall</th>\n",
       "      <th>age_category</th>\n",
       "      <th>total_price</th>\n",
       "    </tr>\n",
       "  </thead>\n",
       "  <tbody>\n",
       "    <tr>\n",
       "      <th>0</th>\n",
       "      <td>Female</td>\n",
       "      <td>28</td>\n",
       "      <td>Clothing</td>\n",
       "      <td>5</td>\n",
       "      <td>1500.40</td>\n",
       "      <td>Credit Card</td>\n",
       "      <td>5/8/2022</td>\n",
       "      <td>Kanyon</td>\n",
       "      <td>young</td>\n",
       "      <td>7502.00</td>\n",
       "    </tr>\n",
       "    <tr>\n",
       "      <th>1</th>\n",
       "      <td>Male</td>\n",
       "      <td>21</td>\n",
       "      <td>Shoes</td>\n",
       "      <td>3</td>\n",
       "      <td>1800.51</td>\n",
       "      <td>Debit Card</td>\n",
       "      <td>12/12/2021</td>\n",
       "      <td>Forum Istanbul</td>\n",
       "      <td>young</td>\n",
       "      <td>5401.53</td>\n",
       "    </tr>\n",
       "    <tr>\n",
       "      <th>2</th>\n",
       "      <td>Male</td>\n",
       "      <td>20</td>\n",
       "      <td>Clothing</td>\n",
       "      <td>1</td>\n",
       "      <td>300.08</td>\n",
       "      <td>Cash</td>\n",
       "      <td>9/11/2021</td>\n",
       "      <td>Metrocity</td>\n",
       "      <td>young</td>\n",
       "      <td>300.08</td>\n",
       "    </tr>\n",
       "    <tr>\n",
       "      <th>3</th>\n",
       "      <td>Female</td>\n",
       "      <td>66</td>\n",
       "      <td>Shoes</td>\n",
       "      <td>5</td>\n",
       "      <td>3000.85</td>\n",
       "      <td>Credit Card</td>\n",
       "      <td>16/05/2021</td>\n",
       "      <td>Metropol AVM</td>\n",
       "      <td>old</td>\n",
       "      <td>15004.25</td>\n",
       "    </tr>\n",
       "    <tr>\n",
       "      <th>4</th>\n",
       "      <td>Female</td>\n",
       "      <td>53</td>\n",
       "      <td>Books</td>\n",
       "      <td>4</td>\n",
       "      <td>60.60</td>\n",
       "      <td>Cash</td>\n",
       "      <td>24/10/2021</td>\n",
       "      <td>Kanyon</td>\n",
       "      <td>old</td>\n",
       "      <td>242.40</td>\n",
       "    </tr>\n",
       "  </tbody>\n",
       "</table>\n",
       "</div>"
      ],
      "text/plain": [
       "   gender  age  category  quantity    price payment_method invoice_date  \\\n",
       "0  Female   28  Clothing         5  1500.40    Credit Card     5/8/2022   \n",
       "1    Male   21     Shoes         3  1800.51     Debit Card   12/12/2021   \n",
       "2    Male   20  Clothing         1   300.08           Cash    9/11/2021   \n",
       "3  Female   66     Shoes         5  3000.85    Credit Card   16/05/2021   \n",
       "4  Female   53     Books         4    60.60           Cash   24/10/2021   \n",
       "\n",
       "    shopping_mall age_category  total_price  \n",
       "0          Kanyon        young      7502.00  \n",
       "1  Forum Istanbul        young      5401.53  \n",
       "2       Metrocity        young       300.08  \n",
       "3    Metropol AVM          old     15004.25  \n",
       "4          Kanyon          old       242.40  "
      ]
     },
     "execution_count": 12,
     "metadata": {},
     "output_type": "execute_result"
    }
   ],
   "source": [
    "#We will add a new column called age_category to the dataset.\n",
    "\n",
    "data['age_category'] = data['age'].apply(age_cat)\n",
    "\n",
    "#We will add a new column called total_price to the dataset.\n",
    "\n",
    "data['total_price'] = data['quantity'] * data['price']\n",
    "\n",
    "data.head()"
   ]
  },
  {
   "cell_type": "code",
   "execution_count": 28,
   "metadata": {},
   "outputs": [
    {
     "name": "stderr",
     "output_type": "stream",
     "text": [
      "C:\\Users\\ahmet\\AppData\\Local\\Temp\\ipykernel_18500\\3033615846.py:1: UserWarning: Parsing dates in DD/MM/YYYY format when dayfirst=False (the default) was specified. This may lead to inconsistently parsed dates! Specify a format to ensure consistent parsing.\n",
      "  data['invoice_date'] = data['invoice_date'].astype('datetime64')\n"
     ]
    }
   ],
   "source": [
    "data['invoice_date'] = data['invoice_date'].astype('datetime64')   \n",
    "\n",
    "# Year\n",
    "data['year'] = data['invoice_date'].dt.strftime(\"%Y\")\n",
    "\n",
    "# Month\n",
    "data['month'] = data['invoice_date'].dt.strftime(\"%m\")\n",
    "\n",
    "# Weekday\n",
    "data['weekday'] = data['invoice_date'].dt.strftime(\"%w\")\n",
    "\n",
    "# Day\n",
    "data['day'] = data['invoice_date'].dt.strftime(\"%d\")\n"
   ]
  },
  {
   "cell_type": "code",
   "execution_count": 29,
   "metadata": {},
   "outputs": [
    {
     "data": {
      "text/html": [
       "<div>\n",
       "<style scoped>\n",
       "    .dataframe tbody tr th:only-of-type {\n",
       "        vertical-align: middle;\n",
       "    }\n",
       "\n",
       "    .dataframe tbody tr th {\n",
       "        vertical-align: top;\n",
       "    }\n",
       "\n",
       "    .dataframe thead th {\n",
       "        text-align: right;\n",
       "    }\n",
       "</style>\n",
       "<table border=\"1\" class=\"dataframe\">\n",
       "  <thead>\n",
       "    <tr style=\"text-align: right;\">\n",
       "      <th></th>\n",
       "      <th>gender</th>\n",
       "      <th>age</th>\n",
       "      <th>category</th>\n",
       "      <th>quantity</th>\n",
       "      <th>price</th>\n",
       "      <th>payment_method</th>\n",
       "      <th>invoice_date</th>\n",
       "      <th>shopping_mall</th>\n",
       "      <th>age_category</th>\n",
       "      <th>total_price</th>\n",
       "      <th>year</th>\n",
       "      <th>month</th>\n",
       "      <th>weekday</th>\n",
       "      <th>day</th>\n",
       "    </tr>\n",
       "  </thead>\n",
       "  <tbody>\n",
       "    <tr>\n",
       "      <th>66729</th>\n",
       "      <td>Male</td>\n",
       "      <td>45</td>\n",
       "      <td>Food &amp; Beverage</td>\n",
       "      <td>1</td>\n",
       "      <td>5.23</td>\n",
       "      <td>Cash</td>\n",
       "      <td>2021-11-07</td>\n",
       "      <td>Mall of Istanbul</td>\n",
       "      <td>middle</td>\n",
       "      <td>5.23</td>\n",
       "      <td>2021</td>\n",
       "      <td>11</td>\n",
       "      <td>0</td>\n",
       "      <td>07</td>\n",
       "    </tr>\n",
       "    <tr>\n",
       "      <th>92093</th>\n",
       "      <td>Female</td>\n",
       "      <td>24</td>\n",
       "      <td>Cosmetics</td>\n",
       "      <td>1</td>\n",
       "      <td>40.66</td>\n",
       "      <td>Cash</td>\n",
       "      <td>2022-11-27</td>\n",
       "      <td>Istinye Park</td>\n",
       "      <td>young</td>\n",
       "      <td>40.66</td>\n",
       "      <td>2022</td>\n",
       "      <td>11</td>\n",
       "      <td>0</td>\n",
       "      <td>27</td>\n",
       "    </tr>\n",
       "    <tr>\n",
       "      <th>48636</th>\n",
       "      <td>Female</td>\n",
       "      <td>66</td>\n",
       "      <td>Shoes</td>\n",
       "      <td>5</td>\n",
       "      <td>3000.85</td>\n",
       "      <td>Cash</td>\n",
       "      <td>2022-12-23</td>\n",
       "      <td>Mall of Istanbul</td>\n",
       "      <td>old</td>\n",
       "      <td>15004.25</td>\n",
       "      <td>2022</td>\n",
       "      <td>12</td>\n",
       "      <td>5</td>\n",
       "      <td>23</td>\n",
       "    </tr>\n",
       "    <tr>\n",
       "      <th>51888</th>\n",
       "      <td>Female</td>\n",
       "      <td>68</td>\n",
       "      <td>Clothing</td>\n",
       "      <td>2</td>\n",
       "      <td>600.16</td>\n",
       "      <td>Credit Card</td>\n",
       "      <td>2021-08-11</td>\n",
       "      <td>Mall of Istanbul</td>\n",
       "      <td>old</td>\n",
       "      <td>1200.32</td>\n",
       "      <td>2021</td>\n",
       "      <td>08</td>\n",
       "      <td>3</td>\n",
       "      <td>11</td>\n",
       "    </tr>\n",
       "    <tr>\n",
       "      <th>66306</th>\n",
       "      <td>Female</td>\n",
       "      <td>24</td>\n",
       "      <td>Clothing</td>\n",
       "      <td>3</td>\n",
       "      <td>900.24</td>\n",
       "      <td>Cash</td>\n",
       "      <td>2021-12-07</td>\n",
       "      <td>Metropol AVM</td>\n",
       "      <td>young</td>\n",
       "      <td>2700.72</td>\n",
       "      <td>2021</td>\n",
       "      <td>12</td>\n",
       "      <td>2</td>\n",
       "      <td>07</td>\n",
       "    </tr>\n",
       "    <tr>\n",
       "      <th>54511</th>\n",
       "      <td>Female</td>\n",
       "      <td>32</td>\n",
       "      <td>Shoes</td>\n",
       "      <td>1</td>\n",
       "      <td>600.17</td>\n",
       "      <td>Cash</td>\n",
       "      <td>2023-01-28</td>\n",
       "      <td>Kanyon</td>\n",
       "      <td>middle</td>\n",
       "      <td>600.17</td>\n",
       "      <td>2023</td>\n",
       "      <td>01</td>\n",
       "      <td>6</td>\n",
       "      <td>28</td>\n",
       "    </tr>\n",
       "    <tr>\n",
       "      <th>54625</th>\n",
       "      <td>Female</td>\n",
       "      <td>41</td>\n",
       "      <td>Cosmetics</td>\n",
       "      <td>4</td>\n",
       "      <td>162.64</td>\n",
       "      <td>Debit Card</td>\n",
       "      <td>2021-04-23</td>\n",
       "      <td>Mall of Istanbul</td>\n",
       "      <td>middle</td>\n",
       "      <td>650.56</td>\n",
       "      <td>2021</td>\n",
       "      <td>04</td>\n",
       "      <td>5</td>\n",
       "      <td>23</td>\n",
       "    </tr>\n",
       "    <tr>\n",
       "      <th>78171</th>\n",
       "      <td>Female</td>\n",
       "      <td>28</td>\n",
       "      <td>Clothing</td>\n",
       "      <td>5</td>\n",
       "      <td>1500.40</td>\n",
       "      <td>Cash</td>\n",
       "      <td>2022-08-08</td>\n",
       "      <td>Mall of Istanbul</td>\n",
       "      <td>young</td>\n",
       "      <td>7502.00</td>\n",
       "      <td>2022</td>\n",
       "      <td>08</td>\n",
       "      <td>1</td>\n",
       "      <td>08</td>\n",
       "    </tr>\n",
       "    <tr>\n",
       "      <th>70548</th>\n",
       "      <td>Female</td>\n",
       "      <td>45</td>\n",
       "      <td>Cosmetics</td>\n",
       "      <td>4</td>\n",
       "      <td>162.64</td>\n",
       "      <td>Credit Card</td>\n",
       "      <td>2021-01-12</td>\n",
       "      <td>Kanyon</td>\n",
       "      <td>middle</td>\n",
       "      <td>650.56</td>\n",
       "      <td>2021</td>\n",
       "      <td>01</td>\n",
       "      <td>2</td>\n",
       "      <td>12</td>\n",
       "    </tr>\n",
       "    <tr>\n",
       "      <th>35597</th>\n",
       "      <td>Male</td>\n",
       "      <td>67</td>\n",
       "      <td>Clothing</td>\n",
       "      <td>1</td>\n",
       "      <td>300.08</td>\n",
       "      <td>Credit Card</td>\n",
       "      <td>2022-04-05</td>\n",
       "      <td>Metropol AVM</td>\n",
       "      <td>old</td>\n",
       "      <td>300.08</td>\n",
       "      <td>2022</td>\n",
       "      <td>04</td>\n",
       "      <td>2</td>\n",
       "      <td>05</td>\n",
       "    </tr>\n",
       "  </tbody>\n",
       "</table>\n",
       "</div>"
      ],
      "text/plain": [
       "       gender  age         category  quantity    price payment_method  \\\n",
       "66729    Male   45  Food & Beverage         1     5.23           Cash   \n",
       "92093  Female   24        Cosmetics         1    40.66           Cash   \n",
       "48636  Female   66            Shoes         5  3000.85           Cash   \n",
       "51888  Female   68         Clothing         2   600.16    Credit Card   \n",
       "66306  Female   24         Clothing         3   900.24           Cash   \n",
       "54511  Female   32            Shoes         1   600.17           Cash   \n",
       "54625  Female   41        Cosmetics         4   162.64     Debit Card   \n",
       "78171  Female   28         Clothing         5  1500.40           Cash   \n",
       "70548  Female   45        Cosmetics         4   162.64    Credit Card   \n",
       "35597    Male   67         Clothing         1   300.08    Credit Card   \n",
       "\n",
       "      invoice_date     shopping_mall age_category  total_price  year month  \\\n",
       "66729   2021-11-07  Mall of Istanbul       middle         5.23  2021    11   \n",
       "92093   2022-11-27      Istinye Park        young        40.66  2022    11   \n",
       "48636   2022-12-23  Mall of Istanbul          old     15004.25  2022    12   \n",
       "51888   2021-08-11  Mall of Istanbul          old      1200.32  2021    08   \n",
       "66306   2021-12-07      Metropol AVM        young      2700.72  2021    12   \n",
       "54511   2023-01-28            Kanyon       middle       600.17  2023    01   \n",
       "54625   2021-04-23  Mall of Istanbul       middle       650.56  2021    04   \n",
       "78171   2022-08-08  Mall of Istanbul        young      7502.00  2022    08   \n",
       "70548   2021-01-12            Kanyon       middle       650.56  2021    01   \n",
       "35597   2022-04-05      Metropol AVM          old       300.08  2022    04   \n",
       "\n",
       "      weekday day  \n",
       "66729       0  07  \n",
       "92093       0  27  \n",
       "48636       5  23  \n",
       "51888       3  11  \n",
       "66306       2  07  \n",
       "54511       6  28  \n",
       "54625       5  23  \n",
       "78171       1  08  \n",
       "70548       2  12  \n",
       "35597       2  05  "
      ]
     },
     "execution_count": 29,
     "metadata": {},
     "output_type": "execute_result"
    }
   ],
   "source": [
    "data.sample(10)"
   ]
  },
  {
   "attachments": {},
   "cell_type": "markdown",
   "metadata": {},
   "source": [
    "1. Which age group spends the most on shopping?"
   ]
  },
  {
   "cell_type": "code",
   "execution_count": 13,
   "metadata": {},
   "outputs": [
    {
     "name": "stderr",
     "output_type": "stream",
     "text": [
      "C:\\Users\\ahmet\\AppData\\Local\\Temp\\ipykernel_18500\\4230571880.py:3: FutureWarning: The default value of numeric_only in DataFrameGroupBy.sum is deprecated. In a future version, numeric_only will default to False. Either specify numeric_only or select only columns which should be valid for the function.\n",
      "  data.groupby(['age_category','gender']).sum()\n"
     ]
    },
    {
     "data": {
      "text/plain": [
       "'This analysis shows that middle-aged female customers spend the most on shopping also, young male customers spend the least on shopping.'"
      ]
     },
     "execution_count": 13,
     "metadata": {},
     "output_type": "execute_result"
    }
   ],
   "source": [
    "#We will use the groupby function to group the data by age_category and gender. \n",
    "\n",
    "data.groupby(['age_category','gender']).sum()\n",
    "\n",
    "\"This analysis shows that middle-aged female customers spend the most on shopping also, young male customers spend the least on shopping.\""
   ]
  },
  {
   "attachments": {},
   "cell_type": "markdown",
   "metadata": {},
   "source": [
    "2. Which gender has the highest average expenditure?"
   ]
  },
  {
   "cell_type": "code",
   "execution_count": 84,
   "metadata": {},
   "outputs": [
    {
     "data": {
      "text/plain": [
       "'This analysis shows that if we look at the average of expenditures, men have spent more.'"
      ]
     },
     "execution_count": 84,
     "metadata": {},
     "output_type": "execute_result"
    }
   ],
   "source": [
    "data.groupby(\"gender\")[\"total_price\"].mean()\n",
    "\n",
    "\"This analysis shows that if we look at the average of expenditures, men have spent more.\""
   ]
  },
  {
   "attachments": {},
   "cell_type": "markdown",
   "metadata": {},
   "source": [
    "3. Which age group has the highest average expenditure?"
   ]
  },
  {
   "cell_type": "code",
   "execution_count": 15,
   "metadata": {},
   "outputs": [
    {
     "data": {
      "text/plain": [
       "'This analysis shows that if we look at the average of expenditures, middle-aged customers have spent the most.'"
      ]
     },
     "execution_count": 15,
     "metadata": {},
     "output_type": "execute_result"
    }
   ],
   "source": [
    "data.groupby(\"age_category\")[\"total_price\"].mean()                                                                           \n",
    "\n",
    "\"This analysis shows that if we look at the average of expenditures, middle-aged customers have spent the most.\""
   ]
  },
  {
   "attachments": {},
   "cell_type": "markdown",
   "metadata": {},
   "source": [
    "4. Which category is the most purchased category?"
   ]
  },
  {
   "cell_type": "code",
   "execution_count": 16,
   "metadata": {},
   "outputs": [
    {
     "data": {
      "text/plain": [
       "'This analysis shows that the most purchased category is clothing and the least one is books.'"
      ]
     },
     "execution_count": 16,
     "metadata": {},
     "output_type": "execute_result"
    }
   ],
   "source": [
    "data.groupby(\"category\")[\"total_price\"].count()\n",
    "\n",
    "\"This analysis shows that the most purchased category is clothing and the least one is books.\""
   ]
  },
  {
   "attachments": {},
   "cell_type": "markdown",
   "metadata": {},
   "source": [
    "## Data Visualization"
   ]
  },
  {
   "attachments": {},
   "cell_type": "markdown",
   "metadata": {},
   "source": [
    "1. Customer Gender Distribution:"
   ]
  },
  {
   "cell_type": "code",
   "execution_count": 17,
   "metadata": {},
   "outputs": [
    {
     "data": {
      "image/png": "[encoded data removed]",
      "text/plain": [
       "<Figure size 600x600 with 1 Axes>"
      ]
     },
     "metadata": {},
     "output_type": "display_data"
    }
   ],
   "source": [
    "# Calculate the count of each gender\n",
    "gender_count = data['gender'].value_counts()\n",
    "\n",
    "# Create pie chart\n",
    "fig, ax = plt.subplots(figsize=(6, 6))\n",
    "ax.pie(gender_count, labels=gender_count.index , autopct='%1.1f%%')\n",
    "ax.set_title('Customer Gender Distribution')\n",
    "\n",
    "plt.show()\n"
   ]
  },
  {
   "attachments": {},
   "cell_type": "markdown",
   "metadata": {},
   "source": [
    "2. Count of Orders by Category"
   ]
  },
  {
   "cell_type": "code",
   "execution_count": 18,
   "metadata": {},
   "outputs": [
    {
     "data": {
      "image/png": "[encoded data removed]",
      "text/plain": [
       "<Figure size 1000x600 with 1 Axes>"
      ]
     },
     "metadata": {},
     "output_type": "display_data"
    }
   ],
   "source": [
    "# create a bar chart to visualize the count of each category\n",
    "fig, ax = plt.subplots(figsize=(10, 6))\n",
    "category_count = data['category'].value_counts()\n",
    "category_count.plot(kind='bar', color='lightblue')\n",
    "plt.xlabel('Category')\n",
    "plt.ylabel('Count')\n",
    "plt.title('Count of Orders by Category')\n",
    "\n",
    "plt.show()\n"
   ]
  },
  {
   "attachments": {},
   "cell_type": "markdown",
   "metadata": {},
   "source": [
    "3.  Count of Customers by Shopping Mall"
   ]
  },
  {
   "cell_type": "code",
   "execution_count": 19,
   "metadata": {},
   "outputs": [
    {
     "data": {
      "image/png": "[encoded data removed]",
      "text/plain": [
       "<Figure size 1000x600 with 1 Axes>"
      ]
     },
     "metadata": {},
     "output_type": "display_data"
    }
   ],
   "source": [
    "# create a bar chart to visualize the count of each shopping mall\n",
    "fig, ax = plt.subplots(figsize=(10, 6))\n",
    "mall_count = data['shopping_mall'].value_counts()\n",
    "mall_count.plot(kind='bar', color='green')\n",
    "plt.xlabel('Shopping Mall')\n",
    "plt.ylabel('Count')\n",
    "plt.title('Count of Customers by Shopping Mall')\n",
    "\n",
    "# add labels to the bars\n",
    "for i, count in enumerate(mall_count):\n",
    "    plt.text(i, count+10, str(count), ha='center')\n",
    "\n",
    "plt.show()"
   ]
  },
  {
   "cell_type": "markdown",
   "metadata": {},
   "source": [
    "4. Count of Customers by Age Category"
   ]
  },
  {
   "cell_type": "code",
   "execution_count": 20,
   "metadata": {},
   "outputs": [
    {
     "data": {
      "image/png": "[encoded data removed]",
      "text/plain": [
       "<Figure size 1000x600 with 1 Axes>"
      ]
     },
     "metadata": {},
     "output_type": "display_data"
    }
   ],
   "source": [
    "# create a bar chart to visualize the count of each age category \n",
    "fig, ax = plt.subplots(figsize=(10, 6))\n",
    "age_count = data['age_category'].value_counts()\n",
    "age_count.plot(kind='bar', color='orange')\n",
    "plt.xlabel('Age Category')\n",
    "plt.ylabel('Count')\n",
    "plt.title('Count of Customers by Age Category') \n",
    "\n",
    "# add labels to the bars\n",
    "for i, count in enumerate(age_count):\n",
    "    plt.text(i, count+10, str(count), ha='center')\n",
    "\n",
    "plt.show()"
   ]
  },
  {
   "attachments": {},
   "cell_type": "markdown",
   "metadata": {},
   "source": [
    "## Data Visulation with Bokeh"
   ]
  },
  {
   "cell_type": "code",
   "execution_count": 56,
   "metadata": {},
   "outputs": [
    {
     "name": "stdout",
     "output_type": "stream",
     "text": [
      "Requirement already satisfied: bokeh in c:\\users\\ahmet\\appdata\\local\\programs\\python\\python311\\lib\\site-packages (3.1.0)\n",
      "Requirement already satisfied: Jinja2>=2.9 in c:\\users\\ahmet\\appdata\\local\\programs\\python\\python311\\lib\\site-packages (from bokeh) (3.1.2)\n",
      "Requirement already satisfied: contourpy>=1 in c:\\users\\ahmet\\appdata\\local\\programs\\python\\python311\\lib\\site-packages (from bokeh) (1.0.7)\n",
      "Requirement already satisfied: numpy>=1.16 in c:\\users\\ahmet\\appdata\\local\\programs\\python\\python311\\lib\\site-packages (from bokeh) (1.24.2)\n",
      "Requirement already satisfied: packaging>=16.8 in c:\\users\\ahmet\\appdata\\roaming\\python\\python311\\site-packages (from bokeh) (23.0)\n",
      "Requirement already satisfied: pandas>=1.2 in c:\\users\\ahmet\\appdata\\local\\programs\\python\\python311\\lib\\site-packages (from bokeh) (1.5.3)\n",
      "Requirement already satisfied: pillow>=7.1.0 in c:\\users\\ahmet\\appdata\\local\\programs\\python\\python311\\lib\\site-packages (from bokeh) (9.4.0)\n",
      "Requirement already satisfied: PyYAML>=3.10 in c:\\users\\ahmet\\appdata\\local\\programs\\python\\python311\\lib\\site-packages (from bokeh) (6.0)\n",
      "Requirement already satisfied: tornado>=5.1 in c:\\users\\ahmet\\appdata\\roaming\\python\\python311\\site-packages (from bokeh) (6.2)\n",
      "Requirement already satisfied: xyzservices>=2021.09.1 in c:\\users\\ahmet\\appdata\\local\\programs\\python\\python311\\lib\\site-packages (from bokeh) (2023.2.0)\n",
      "Requirement already satisfied: MarkupSafe>=2.0 in c:\\users\\ahmet\\appdata\\local\\programs\\python\\python311\\lib\\site-packages (from Jinja2>=2.9->bokeh) (2.1.2)\n",
      "Requirement already satisfied: python-dateutil>=2.8.1 in c:\\users\\ahmet\\appdata\\roaming\\python\\python311\\site-packages (from pandas>=1.2->bokeh) (2.8.2)\n",
      "Requirement already satisfied: pytz>=2020.1 in c:\\users\\ahmet\\appdata\\local\\programs\\python\\python311\\lib\\site-packages (from pandas>=1.2->bokeh) (2022.7.1)\n",
      "Requirement already satisfied: six>=1.5 in c:\\users\\ahmet\\appdata\\roaming\\python\\python311\\site-packages (from python-dateutil>=2.8.1->pandas>=1.2->bokeh) (1.16.0)\n"
     ]
    },
    {
     "name": "stderr",
     "output_type": "stream",
     "text": [
      "\n",
      "[notice] A new release of pip is available: 23.0.1 -> 23.1.1\n",
      "[notice] To update, run: python.exe -m pip install --upgrade pip\n"
     ]
    }
   ],
   "source": [
    "!pip install bokeh"
   ]
  },
  {
   "cell_type": "code",
   "execution_count": 78,
   "metadata": {},
   "outputs": [
    {
     "data": {
      "text/html": [
       "<div>\n",
       "<style scoped>\n",
       "    .dataframe tbody tr th:only-of-type {\n",
       "        vertical-align: middle;\n",
       "    }\n",
       "\n",
       "    .dataframe tbody tr th {\n",
       "        vertical-align: top;\n",
       "    }\n",
       "\n",
       "    .dataframe thead th {\n",
       "        text-align: right;\n",
       "    }\n",
       "</style>\n",
       "<table border=\"1\" class=\"dataframe\">\n",
       "  <thead>\n",
       "    <tr style=\"text-align: right;\">\n",
       "      <th></th>\n",
       "      <th>month</th>\n",
       "      <th>total_price</th>\n",
       "    </tr>\n",
       "  </thead>\n",
       "  <tbody>\n",
       "    <tr>\n",
       "      <th>11</th>\n",
       "      <td>12</td>\n",
       "      <td>20099529.82</td>\n",
       "    </tr>\n",
       "    <tr>\n",
       "      <th>7</th>\n",
       "      <td>08</td>\n",
       "      <td>19812561.97</td>\n",
       "    </tr>\n",
       "    <tr>\n",
       "      <th>3</th>\n",
       "      <td>04</td>\n",
       "      <td>20360575.14</td>\n",
       "    </tr>\n",
       "    <tr>\n",
       "      <th>0</th>\n",
       "      <td>01</td>\n",
       "      <td>25755677.65</td>\n",
       "    </tr>\n",
       "    <tr>\n",
       "      <th>1</th>\n",
       "      <td>02</td>\n",
       "      <td>23980067.68</td>\n",
       "    </tr>\n",
       "    <tr>\n",
       "      <th>10</th>\n",
       "      <td>11</td>\n",
       "      <td>18700196.96</td>\n",
       "    </tr>\n",
       "    <tr>\n",
       "      <th>9</th>\n",
       "      <td>10</td>\n",
       "      <td>21049007.84</td>\n",
       "    </tr>\n",
       "    <tr>\n",
       "      <th>6</th>\n",
       "      <td>07</td>\n",
       "      <td>20721536.72</td>\n",
       "    </tr>\n",
       "    <tr>\n",
       "      <th>5</th>\n",
       "      <td>06</td>\n",
       "      <td>20344057.02</td>\n",
       "    </tr>\n",
       "    <tr>\n",
       "      <th>2</th>\n",
       "      <td>03</td>\n",
       "      <td>20826196.84</td>\n",
       "    </tr>\n",
       "  </tbody>\n",
       "</table>\n",
       "</div>"
      ],
      "text/plain": [
       "   month  total_price\n",
       "11    12  20099529.82\n",
       "7     08  19812561.97\n",
       "3     04  20360575.14\n",
       "0     01  25755677.65\n",
       "1     02  23980067.68\n",
       "10    11  18700196.96\n",
       "9     10  21049007.84\n",
       "6     07  20721536.72\n",
       "5     06  20344057.02\n",
       "2     03  20826196.84"
      ]
     },
     "execution_count": 78,
     "metadata": {},
     "output_type": "execute_result"
    }
   ],
   "source": [
    "grouped_df = data.groupby('month')['total_price'].sum().reset_index()\n",
    "grouped_df.sample(10)"
   ]
  },
  {
   "cell_type": "code",
   "execution_count": 80,
   "metadata": {},
   "outputs": [
    {
     "data": {
      "text/html": [
       "\n",
       "  <div id=\"a02092d7-d4a9-4c41-91a7-1035ba88d93d\" data-root-id=\"p5341\" style=\"display: contents;\"></div>\n"
      ]
     },
     "metadata": {},
     "output_type": "display_data"
    },
    {
     "data": {
      "application/javascript": "(function(root) {\n  function embed_document(root) {\n  const docs_json = {\"1dda6c3a-da00-4f86-b97a-0ad116d7d812\":{\"version\":\"3.1.0\",\"title\":\"Bokeh Application\",\"defs\":[],\"roots\":[{\"type\":\"object\",\"name\":\"Figure\",\"id\":\"p5341\",\"attributes\":{\"width\":800,\"height\":400,\"x_range\":{\"type\":\"object\",\"name\":\"FactorRange\",\"id\":\"p5351\",\"attributes\":{\"factors\":[\"01\",\"02\",\"03\",\"04\",\"05\",\"06\",\"07\",\"08\",\"09\",\"10\",\"11\",\"12\"]}},\"y_range\":{\"type\":\"object\",\"name\":\"DataRange1d\",\"id\":\"p5343\"},\"x_scale\":{\"type\":\"object\",\"name\":\"CategoricalScale\",\"id\":\"p5355\"},\"y_scale\":{\"type\":\"object\",\"name\":\"LinearScale\",\"id\":\"p5357\"},\"title\":{\"type\":\"object\",\"name\":\"Title\",\"id\":\"p5344\",\"attributes\":{\"text\":\"Aylara G\\u00f6re Toplam Al\\u0131\\u015fveri\\u015f Miktar\\u0131\"}},\"renderers\":[{\"type\":\"object\",\"name\":\"GlyphRenderer\",\"id\":\"p5393\",\"attributes\":{\"data_source\":{\"type\":\"object\",\"name\":\"ColumnDataSource\",\"id\":\"p5338\",\"attributes\":{\"selected\":{\"type\":\"object\",\"name\":\"Selection\",\"id\":\"p5340\",\"attributes\":{\"indices\":[],\"line_indices\":[]}},\"selection_policy\":{\"type\":\"object\",\"name\":\"UnionRenderers\",\"id\":\"p5339\"},\"data\":{\"type\":\"map\",\"entries\":[[\"index\",{\"type\":\"ndarray\",\"array\":{\"type\":\"bytes\",\"data\":\"AAAAAAEAAAACAAAAAwAAAAQAAAAFAAAABgAAAAcAAAAIAAAACQAAAAoAAAALAAAA\"},\"shape\":[12],\"dtype\":\"int32\",\"order\":\"little\"}],[\"month\",{\"type\":\"ndarray\",\"array\":[\"01\",\"02\",\"03\",\"04\",\"05\",\"06\",\"07\",\"08\",\"09\",\"10\",\"11\",\"12\"],\"shape\":[12],\"dtype\":\"object\",\"order\":\"little\"}],[\"total_price\",{\"type\":\"ndarray\",\"array\":{\"type\":\"bytes\",\"data\":\"ZmZm2gGQeEGuR+E6gt52QdejcE2F3HNBpHA98tdqc0F7FK5fUadzQYXrUZDPZnNBuB6FC/jCc0G4HoUfDeVyQRSuR80+W3JB16Nw/eoSdEH2KFxPetVxQVK4Hp0cK3NB\"},\"shape\":[12],\"dtype\":\"float64\",\"order\":\"little\"}]]}}},\"view\":{\"type\":\"object\",\"name\":\"CDSView\",\"id\":\"p5394\",\"attributes\":{\"filter\":{\"type\":\"object\",\"name\":\"AllIndices\",\"id\":\"p5395\"}}},\"glyph\":{\"type\":\"object\",\"name\":\"Line\",\"id\":\"p5390\",\"attributes\":{\"x\":{\"type\":\"field\",\"field\":\"month\"},\"y\":{\"type\":\"field\",\"field\":\"total_price\"},\"line_color\":\"#1f77b4\",\"line_width\":2}},\"nonselection_glyph\":{\"type\":\"object\",\"name\":\"Line\",\"id\":\"p5391\",\"attributes\":{\"x\":{\"type\":\"field\",\"field\":\"month\"},\"y\":{\"type\":\"field\",\"field\":\"total_price\"},\"line_color\":\"#1f77b4\",\"line_alpha\":0.1,\"line_width\":2}},\"muted_glyph\":{\"type\":\"object\",\"name\":\"Line\",\"id\":\"p5392\",\"attributes\":{\"x\":{\"type\":\"field\",\"field\":\"month\"},\"y\":{\"type\":\"field\",\"field\":\"total_price\"},\"line_color\":\"#1f77b4\",\"line_alpha\":0.2,\"line_width\":2}}}}],\"toolbar\":{\"type\":\"object\",\"name\":\"Toolbar\",\"id\":\"p5347\",\"attributes\":{\"tools\":[{\"type\":\"object\",\"name\":\"PanTool\",\"id\":\"p5372\"},{\"type\":\"object\",\"name\":\"WheelZoomTool\",\"id\":\"p5373\"},{\"type\":\"object\",\"name\":\"BoxZoomTool\",\"id\":\"p5374\",\"attributes\":{\"overlay\":{\"type\":\"object\",\"name\":\"BoxAnnotation\",\"id\":\"p5375\",\"attributes\":{\"syncable\":false,\"level\":\"overlay\",\"visible\":false,\"left_units\":\"canvas\",\"right_units\":\"canvas\",\"bottom_units\":\"canvas\",\"top_units\":\"canvas\",\"line_color\":\"black\",\"line_alpha\":1.0,\"line_width\":2,\"line_dash\":[4,4],\"fill_color\":\"lightgrey\",\"fill_alpha\":0.5}}}},{\"type\":\"object\",\"name\":\"SaveTool\",\"id\":\"p5376\"},{\"type\":\"object\",\"name\":\"ResetTool\",\"id\":\"p5377\"},{\"type\":\"object\",\"name\":\"HelpTool\",\"id\":\"p5378\"}]}},\"left\":[{\"type\":\"object\",\"name\":\"LinearAxis\",\"id\":\"p5365\",\"attributes\":{\"ticker\":{\"type\":\"object\",\"name\":\"BasicTicker\",\"id\":\"p5368\",\"attributes\":{\"mantissas\":[1,2,5]}},\"formatter\":{\"type\":\"object\",\"name\":\"BasicTickFormatter\",\"id\":\"p5367\"},\"axis_label\":\"Toplam Al\\u0131\\u015fveri\\u015f Miktar\\u0131\",\"major_label_policy\":{\"type\":\"object\",\"name\":\"AllLabels\",\"id\":\"p5366\"}}}],\"below\":[{\"type\":\"object\",\"name\":\"CategoricalAxis\",\"id\":\"p5359\",\"attributes\":{\"ticker\":{\"type\":\"object\",\"name\":\"CategoricalTicker\",\"id\":\"p5362\"},\"formatter\":{\"type\":\"object\",\"name\":\"CategoricalTickFormatter\",\"id\":\"p5361\"},\"axis_label\":\"Ay\",\"major_label_policy\":{\"type\":\"object\",\"name\":\"AllLabels\",\"id\":\"p5360\"}}}],\"center\":[{\"type\":\"object\",\"name\":\"Grid\",\"id\":\"p5364\",\"attributes\":{\"axis\":{\"id\":\"p5359\"}}},{\"type\":\"object\",\"name\":\"Grid\",\"id\":\"p5371\",\"attributes\":{\"dimension\":1,\"axis\":{\"id\":\"p5365\"}}}]}}],\"callbacks\":{\"type\":\"map\"}}};\n  const render_items = [{\"docid\":\"1dda6c3a-da00-4f86-b97a-0ad116d7d812\",\"roots\":{\"p5341\":\"a02092d7-d4a9-4c41-91a7-1035ba88d93d\"},\"root_ids\":[\"p5341\"]}];\n  root.Bokeh.embed.embed_items_notebook(docs_json, render_items);\n  }\n  if (root.Bokeh !== undefined) {\n    embed_document(root);\n  } else {\n    let attempts = 0;\n    const timer = setInterval(function(root) {\n      if (root.Bokeh !== undefined) {\n        clearInterval(timer);\n        embed_document(root);\n      } else {\n        attempts++;\n        if (attempts > 100) {\n          clearInterval(timer);\n          console.log(\"Bokeh: ERROR: Unable to run BokehJS code because BokehJS library is missing\");\n        }\n      }\n    }, 10, root)\n  }\n})(window);",
      "application/vnd.bokehjs_exec.v0+json": ""
     },
     "metadata": {
      "application/vnd.bokehjs_exec.v0+json": {
       "id": "p5341"
      }
     },
     "output_type": "display_data"
    }
   ],
   "source": [
    "from bokeh.plotting import figure, show\n",
    "from bokeh.models import ColumnDataSource\n",
    "\n",
    "grouped_df = data.groupby('month')['total_price'].sum().reset_index()\n",
    "source = ColumnDataSource(grouped_df)\n",
    "\n",
    "p = figure(title='Aylara Göre Toplam Alışveriş Miktarı', x_range=grouped_df['month'], width=800, height=400)\n",
    "p.line(x='month', y='total_price', source=source, line_width=2)\n",
    "p.xaxis.axis_label = 'Ay'\n",
    "p.yaxis.axis_label = 'Toplam Alışveriş Miktarı'\n",
    "\n",
    "show(p)\n",
    "\n",
    "#VERİNİN DÜZENSİZLĞİ NEDENİYLE GRAFİĞİN DOĞRULUĞU ŞÜPHELİDİR."
   ]
  },
  {
   "cell_type": "code",
   "execution_count": 85,
   "metadata": {},
   "outputs": [
    {
     "data": {
      "text/html": [
       "\n",
       "  <div id=\"0ed8da9a-627d-4886-b0ae-47867e931553\" data-root-id=\"p6103\" style=\"display: contents;\"></div>\n"
      ]
     },
     "metadata": {},
     "output_type": "display_data"
    },
    {
     "data": {
      "application/javascript": "(function(root) {\n  function embed_document(root) {\n  const docs_json = {\"cdd3d46b-20cd-4b8a-8b8b-112f647af4b8\":{\"version\":\"3.1.0\",\"title\":\"Bokeh Application\",\"defs\":[],\"roots\":[{\"type\":\"object\",\"name\":\"Figure\",\"id\":\"p6103\",\"attributes\":{\"width\":800,\"height\":400,\"x_range\":{\"type\":\"object\",\"name\":\"FactorRange\",\"id\":\"p6113\",\"attributes\":{\"factors\":[\"Female\",\"Male\"]}},\"y_range\":{\"type\":\"object\",\"name\":\"DataRange1d\",\"id\":\"p6105\"},\"x_scale\":{\"type\":\"object\",\"name\":\"CategoricalScale\",\"id\":\"p6117\"},\"y_scale\":{\"type\":\"object\",\"name\":\"LinearScale\",\"id\":\"p6119\"},\"title\":{\"type\":\"object\",\"name\":\"Title\",\"id\":\"p6106\",\"attributes\":{\"text\":\"Cinsiyete G\\u00f6re Toplam Al\\u0131\\u015fveri\\u015f Miktar\\u0131\"}},\"renderers\":[{\"type\":\"object\",\"name\":\"GlyphRenderer\",\"id\":\"p6155\",\"attributes\":{\"data_source\":{\"type\":\"object\",\"name\":\"ColumnDataSource\",\"id\":\"p6100\",\"attributes\":{\"selected\":{\"type\":\"object\",\"name\":\"Selection\",\"id\":\"p6102\",\"attributes\":{\"indices\":[],\"line_indices\":[]}},\"selection_policy\":{\"type\":\"object\",\"name\":\"UnionRenderers\",\"id\":\"p6101\"},\"data\":{\"type\":\"map\",\"entries\":[[\"index\",{\"type\":\"ndarray\",\"array\":{\"type\":\"bytes\",\"data\":\"AAAAAAEAAAA=\"},\"shape\":[2],\"dtype\":\"int32\",\"order\":\"little\"}],[\"gender\",{\"type\":\"ndarray\",\"array\":[\"Female\",\"Male\"],\"shape\":[2],\"dtype\":\"object\",\"order\":\"little\"}],[\"total_price\",{\"type\":\"ndarray\",\"array\":{\"type\":\"bytes\",\"data\":\"cT0KQPXnoUHrUbiJxyaYQQ==\"},\"shape\":[2],\"dtype\":\"float64\",\"order\":\"little\"}]]}}},\"view\":{\"type\":\"object\",\"name\":\"CDSView\",\"id\":\"p6156\",\"attributes\":{\"filter\":{\"type\":\"object\",\"name\":\"AllIndices\",\"id\":\"p6157\"}}},\"glyph\":{\"type\":\"object\",\"name\":\"VBar\",\"id\":\"p6152\",\"attributes\":{\"x\":{\"type\":\"field\",\"field\":\"gender\"},\"width\":{\"type\":\"value\",\"value\":0.5},\"top\":{\"type\":\"field\",\"field\":\"total_price\"},\"line_color\":{\"type\":\"value\",\"value\":\"#1f77b4\"},\"fill_color\":{\"type\":\"value\",\"value\":\"#1f77b4\"}}},\"nonselection_glyph\":{\"type\":\"object\",\"name\":\"VBar\",\"id\":\"p6153\",\"attributes\":{\"x\":{\"type\":\"field\",\"field\":\"gender\"},\"width\":{\"type\":\"value\",\"value\":0.5},\"top\":{\"type\":\"field\",\"field\":\"total_price\"},\"line_color\":{\"type\":\"value\",\"value\":\"#1f77b4\"},\"line_alpha\":{\"type\":\"value\",\"value\":0.1},\"fill_color\":{\"type\":\"value\",\"value\":\"#1f77b4\"},\"fill_alpha\":{\"type\":\"value\",\"value\":0.1},\"hatch_alpha\":{\"type\":\"value\",\"value\":0.1}}},\"muted_glyph\":{\"type\":\"object\",\"name\":\"VBar\",\"id\":\"p6154\",\"attributes\":{\"x\":{\"type\":\"field\",\"field\":\"gender\"},\"width\":{\"type\":\"value\",\"value\":0.5},\"top\":{\"type\":\"field\",\"field\":\"total_price\"},\"line_color\":{\"type\":\"value\",\"value\":\"#1f77b4\"},\"line_alpha\":{\"type\":\"value\",\"value\":0.2},\"fill_color\":{\"type\":\"value\",\"value\":\"#1f77b4\"},\"fill_alpha\":{\"type\":\"value\",\"value\":0.2},\"hatch_alpha\":{\"type\":\"value\",\"value\":0.2}}}}}],\"toolbar\":{\"type\":\"object\",\"name\":\"Toolbar\",\"id\":\"p6109\",\"attributes\":{\"tools\":[{\"type\":\"object\",\"name\":\"PanTool\",\"id\":\"p6134\"},{\"type\":\"object\",\"name\":\"WheelZoomTool\",\"id\":\"p6135\"},{\"type\":\"object\",\"name\":\"BoxZoomTool\",\"id\":\"p6136\",\"attributes\":{\"overlay\":{\"type\":\"object\",\"name\":\"BoxAnnotation\",\"id\":\"p6137\",\"attributes\":{\"syncable\":false,\"level\":\"overlay\",\"visible\":false,\"left_units\":\"canvas\",\"right_units\":\"canvas\",\"bottom_units\":\"canvas\",\"top_units\":\"canvas\",\"line_color\":\"black\",\"line_alpha\":1.0,\"line_width\":2,\"line_dash\":[4,4],\"fill_color\":\"lightgrey\",\"fill_alpha\":0.5}}}},{\"type\":\"object\",\"name\":\"SaveTool\",\"id\":\"p6138\"},{\"type\":\"object\",\"name\":\"ResetTool\",\"id\":\"p6139\"},{\"type\":\"object\",\"name\":\"HelpTool\",\"id\":\"p6140\"}]}},\"left\":[{\"type\":\"object\",\"name\":\"LinearAxis\",\"id\":\"p6127\",\"attributes\":{\"ticker\":{\"type\":\"object\",\"name\":\"BasicTicker\",\"id\":\"p6130\",\"attributes\":{\"mantissas\":[1,2,5]}},\"formatter\":{\"type\":\"object\",\"name\":\"BasicTickFormatter\",\"id\":\"p6129\"},\"axis_label\":\"Toplam Al\\u0131\\u015fveri\\u015f Hacmi\",\"major_label_policy\":{\"type\":\"object\",\"name\":\"AllLabels\",\"id\":\"p6128\"}}}],\"below\":[{\"type\":\"object\",\"name\":\"CategoricalAxis\",\"id\":\"p6121\",\"attributes\":{\"ticker\":{\"type\":\"object\",\"name\":\"CategoricalTicker\",\"id\":\"p6124\"},\"formatter\":{\"type\":\"object\",\"name\":\"CategoricalTickFormatter\",\"id\":\"p6123\"},\"axis_label\":\"Cinsiyet\",\"major_label_policy\":{\"type\":\"object\",\"name\":\"AllLabels\",\"id\":\"p6122\"}}}],\"center\":[{\"type\":\"object\",\"name\":\"Grid\",\"id\":\"p6126\",\"attributes\":{\"axis\":{\"id\":\"p6121\"}}},{\"type\":\"object\",\"name\":\"Grid\",\"id\":\"p6133\",\"attributes\":{\"dimension\":1,\"axis\":{\"id\":\"p6127\"}}}]}}],\"callbacks\":{\"type\":\"map\"}}};\n  const render_items = [{\"docid\":\"cdd3d46b-20cd-4b8a-8b8b-112f647af4b8\",\"roots\":{\"p6103\":\"0ed8da9a-627d-4886-b0ae-47867e931553\"},\"root_ids\":[\"p6103\"]}];\n  root.Bokeh.embed.embed_items_notebook(docs_json, render_items);\n  }\n  if (root.Bokeh !== undefined) {\n    embed_document(root);\n  } else {\n    let attempts = 0;\n    const timer = setInterval(function(root) {\n      if (root.Bokeh !== undefined) {\n        clearInterval(timer);\n        embed_document(root);\n      } else {\n        attempts++;\n        if (attempts > 100) {\n          clearInterval(timer);\n          console.log(\"Bokeh: ERROR: Unable to run BokehJS code because BokehJS library is missing\");\n        }\n      }\n    }, 10, root)\n  }\n})(window);",
      "application/vnd.bokehjs_exec.v0+json": ""
     },
     "metadata": {
      "application/vnd.bokehjs_exec.v0+json": {
       "id": "p6103"
      }
     },
     "output_type": "display_data"
    }
   ],
   "source": [
    "# Cinsiyete göre alışveriş miktarını hesaplayın\n",
    "grouped_df = data.groupby('gender')['total_price'].sum().reset_index()\n",
    "\n",
    "# Verileri Bokeh veri kaynağına aktarın\n",
    "source = ColumnDataSource(grouped_df)\n",
    "\n",
    "# Bokeh figürünü oluşturun\n",
    "p = figure(title='Cinsiyete Göre Toplam Alışveriş Miktarı', x_range=grouped_df['gender'], width=800, height=400)\n",
    "\n",
    "# Çubuk grafiklerini oluşturun\n",
    "p.vbar(x='gender', top='total_price', source=source, width=0.5)\n",
    "\n",
    "# Eksen etiketlerini ayarlayın\n",
    "p.xaxis.axis_label = 'Cinsiyet'\n",
    "p.yaxis.axis_label = 'Toplam Alışveriş Hacmi'\n",
    "\n",
    "# Grafikleri gösterin\n",
    "show(p)"
   ]
  },
  {
   "cell_type": "code",
   "execution_count": 97,
   "metadata": {},
   "outputs": [
    {
     "data": {
      "text/html": [
       "\n",
       "  <div id=\"f2a6c66d-4edf-4c78-9a8a-f7279ee7b815\" data-root-id=\"p7767\" style=\"display: contents;\"></div>\n"
      ]
     },
     "metadata": {},
     "output_type": "display_data"
    },
    {
     "data": {
      "application/javascript": "(function(root) {\n  function embed_document(root) {\n  const docs_json = {\"30407d0d-91fb-4495-8a1f-428dfa67e768\":{\"version\":\"3.1.0\",\"title\":\"Bokeh Application\",\"defs\":[],\"roots\":[{\"type\":\"object\",\"name\":\"Figure\",\"id\":\"p7767\",\"attributes\":{\"width\":400,\"height\":400,\"x_range\":{\"type\":\"object\",\"name\":\"FactorRange\",\"id\":\"p7777\",\"attributes\":{\"factors\":[\"Female\",\"Male\"]}},\"y_range\":{\"type\":\"object\",\"name\":\"DataRange1d\",\"id\":\"p7769\"},\"x_scale\":{\"type\":\"object\",\"name\":\"CategoricalScale\",\"id\":\"p7781\"},\"y_scale\":{\"type\":\"object\",\"name\":\"LinearScale\",\"id\":\"p7783\"},\"title\":{\"type\":\"object\",\"name\":\"Title\",\"id\":\"p7770\",\"attributes\":{\"text\":\"Cinsiyete G\\u00f6re Ortalama Al\\u0131\\u015fveri\\u015f Harcamas\\u0131\"}},\"renderers\":[{\"type\":\"object\",\"name\":\"GlyphRenderer\",\"id\":\"p7819\",\"attributes\":{\"data_source\":{\"type\":\"object\",\"name\":\"ColumnDataSource\",\"id\":\"p7764\",\"attributes\":{\"selected\":{\"type\":\"object\",\"name\":\"Selection\",\"id\":\"p7766\",\"attributes\":{\"indices\":[],\"line_indices\":[]}},\"selection_policy\":{\"type\":\"object\",\"name\":\"UnionRenderers\",\"id\":\"p7765\"},\"data\":{\"type\":\"map\",\"entries\":[[\"index\",{\"type\":\"ndarray\",\"array\":{\"type\":\"bytes\",\"data\":\"AAAAAAEAAAA=\"},\"shape\":[2],\"dtype\":\"int32\",\"order\":\"little\"}],[\"gender\",{\"type\":\"ndarray\",\"array\":[\"Female\",\"Male\"],\"shape\":[2],\"dtype\":\"object\",\"order\":\"little\"}],[\"total_price\",{\"type\":\"ndarray\",\"array\":{\"type\":\"bytes\",\"data\":\"vCLp2oG6o0DP2Va5GcyjQA==\"},\"shape\":[2],\"dtype\":\"float64\",\"order\":\"little\"}]]}}},\"view\":{\"type\":\"object\",\"name\":\"CDSView\",\"id\":\"p7820\",\"attributes\":{\"filter\":{\"type\":\"object\",\"name\":\"AllIndices\",\"id\":\"p7821\"}}},\"glyph\":{\"type\":\"object\",\"name\":\"VBar\",\"id\":\"p7816\",\"attributes\":{\"x\":{\"type\":\"field\",\"field\":\"gender\"},\"width\":{\"type\":\"value\",\"value\":0.8},\"top\":{\"type\":\"field\",\"field\":\"total_price\"},\"line_color\":{\"type\":\"value\",\"value\":\"#1f77b4\"},\"fill_color\":{\"type\":\"value\",\"value\":\"#1f77b4\"}}},\"nonselection_glyph\":{\"type\":\"object\",\"name\":\"VBar\",\"id\":\"p7817\",\"attributes\":{\"x\":{\"type\":\"field\",\"field\":\"gender\"},\"width\":{\"type\":\"value\",\"value\":0.8},\"top\":{\"type\":\"field\",\"field\":\"total_price\"},\"line_color\":{\"type\":\"value\",\"value\":\"#1f77b4\"},\"line_alpha\":{\"type\":\"value\",\"value\":0.1},\"fill_color\":{\"type\":\"value\",\"value\":\"#1f77b4\"},\"fill_alpha\":{\"type\":\"value\",\"value\":0.1},\"hatch_alpha\":{\"type\":\"value\",\"value\":0.1}}},\"muted_glyph\":{\"type\":\"object\",\"name\":\"VBar\",\"id\":\"p7818\",\"attributes\":{\"x\":{\"type\":\"field\",\"field\":\"gender\"},\"width\":{\"type\":\"value\",\"value\":0.8},\"top\":{\"type\":\"field\",\"field\":\"total_price\"},\"line_color\":{\"type\":\"value\",\"value\":\"#1f77b4\"},\"line_alpha\":{\"type\":\"value\",\"value\":0.2},\"fill_color\":{\"type\":\"value\",\"value\":\"#1f77b4\"},\"fill_alpha\":{\"type\":\"value\",\"value\":0.2},\"hatch_alpha\":{\"type\":\"value\",\"value\":0.2}}}}}],\"toolbar\":{\"type\":\"object\",\"name\":\"Toolbar\",\"id\":\"p7773\",\"attributes\":{\"tools\":[{\"type\":\"object\",\"name\":\"PanTool\",\"id\":\"p7798\"},{\"type\":\"object\",\"name\":\"WheelZoomTool\",\"id\":\"p7799\"},{\"type\":\"object\",\"name\":\"BoxZoomTool\",\"id\":\"p7800\",\"attributes\":{\"overlay\":{\"type\":\"object\",\"name\":\"BoxAnnotation\",\"id\":\"p7801\",\"attributes\":{\"syncable\":false,\"level\":\"overlay\",\"visible\":false,\"left_units\":\"canvas\",\"right_units\":\"canvas\",\"bottom_units\":\"canvas\",\"top_units\":\"canvas\",\"line_color\":\"black\",\"line_alpha\":1.0,\"line_width\":2,\"line_dash\":[4,4],\"fill_color\":\"lightgrey\",\"fill_alpha\":0.5}}}},{\"type\":\"object\",\"name\":\"SaveTool\",\"id\":\"p7802\"},{\"type\":\"object\",\"name\":\"ResetTool\",\"id\":\"p7803\"},{\"type\":\"object\",\"name\":\"HelpTool\",\"id\":\"p7804\"}]}},\"left\":[{\"type\":\"object\",\"name\":\"LinearAxis\",\"id\":\"p7791\",\"attributes\":{\"ticker\":{\"type\":\"object\",\"name\":\"BasicTicker\",\"id\":\"p7794\",\"attributes\":{\"mantissas\":[1,2,5]}},\"formatter\":{\"type\":\"object\",\"name\":\"BasicTickFormatter\",\"id\":\"p7793\"},\"axis_label\":\"Toplam Al\\u0131\\u015fveri\\u015f Hacmi\",\"major_label_policy\":{\"type\":\"object\",\"name\":\"AllLabels\",\"id\":\"p7792\"}}}],\"below\":[{\"type\":\"object\",\"name\":\"CategoricalAxis\",\"id\":\"p7785\",\"attributes\":{\"ticker\":{\"type\":\"object\",\"name\":\"CategoricalTicker\",\"id\":\"p7788\"},\"formatter\":{\"type\":\"object\",\"name\":\"CategoricalTickFormatter\",\"id\":\"p7787\"},\"axis_label\":\"Cinsiyet\",\"major_label_policy\":{\"type\":\"object\",\"name\":\"AllLabels\",\"id\":\"p7786\"}}}],\"center\":[{\"type\":\"object\",\"name\":\"Grid\",\"id\":\"p7790\",\"attributes\":{\"axis\":{\"id\":\"p7785\"}}},{\"type\":\"object\",\"name\":\"Grid\",\"id\":\"p7797\",\"attributes\":{\"dimension\":1,\"axis\":{\"id\":\"p7791\"}}}]}}],\"callbacks\":{\"type\":\"map\"}}};\n  const render_items = [{\"docid\":\"30407d0d-91fb-4495-8a1f-428dfa67e768\",\"roots\":{\"p7767\":\"f2a6c66d-4edf-4c78-9a8a-f7279ee7b815\"},\"root_ids\":[\"p7767\"]}];\n  root.Bokeh.embed.embed_items_notebook(docs_json, render_items);\n  }\n  if (root.Bokeh !== undefined) {\n    embed_document(root);\n  } else {\n    let attempts = 0;\n    const timer = setInterval(function(root) {\n      if (root.Bokeh !== undefined) {\n        clearInterval(timer);\n        embed_document(root);\n      } else {\n        attempts++;\n        if (attempts > 100) {\n          clearInterval(timer);\n          console.log(\"Bokeh: ERROR: Unable to run BokehJS code because BokehJS library is missing\");\n        }\n      }\n    }, 10, root)\n  }\n})(window);",
      "application/vnd.bokehjs_exec.v0+json": ""
     },
     "metadata": {
      "application/vnd.bokehjs_exec.v0+json": {
       "id": "p7767"
      }
     },
     "output_type": "display_data"
    }
   ],
   "source": [
    "\n",
    "grouped_df = data.groupby('gender')['total_price'].mean().reset_index()\n",
    "source = ColumnDataSource(grouped_df)\n",
    "\n",
    "p = figure(title='Cinsiyete Göre Ortalama Alışveriş Harcaması', x_range=grouped_df['gender'], width=400, height=400)\n",
    "p.vbar(x='gender', top='total_price', source=source, width=0.8)\n",
    "p.xaxis.axis_label = 'Cinsiyet'\n",
    "p.yaxis.axis_label = 'Toplam Alışveriş Hacmi'\n",
    "\n",
    "\n",
    "show(p)"
   ]
  },
  {
   "cell_type": "code",
   "execution_count": 98,
   "metadata": {},
   "outputs": [
    {
     "name": "stderr",
     "output_type": "stream",
     "text": [
      "C:\\Users\\ahmet\\AppData\\Local\\Temp\\ipykernel_18500\\1790759505.py:2: FutureWarning: The default value of numeric_only in DataFrameGroupBy.sum is deprecated. In a future version, numeric_only will default to False. Either specify numeric_only or select only columns which should be valid for the function.\n",
      "  grouped_df = data.groupby(['age_category','gender']).sum().reset_index()\n",
      "ERROR:bokeh.core.validation.check:E-1019 (DUPLICATE_FACTORS): FactorRange must specify a unique list of categorical factors for an axis: duplicate factors found: 'Female', 'Male'\n"
     ]
    },
    {
     "data": {
      "text/html": [
       "\n",
       "  <div id=\"f0e49d2a-4cc7-4c0b-84fa-e0e646176c28\" data-root-id=\"p8215\" style=\"display: contents;\"></div>\n"
      ]
     },
     "metadata": {},
     "output_type": "display_data"
    },
    {
     "data": {
      "application/javascript": "(function(root) {\n  function embed_document(root) {\n  const docs_json = {\"9381a9cc-2c24-4020-b3d7-ba3a90d5b0ad\":{\"version\":\"3.1.0\",\"title\":\"Bokeh Application\",\"defs\":[],\"roots\":[{\"type\":\"object\",\"name\":\"Figure\",\"id\":\"p8215\",\"attributes\":{\"width\":800,\"height\":400,\"x_range\":{\"type\":\"object\",\"name\":\"FactorRange\",\"id\":\"p8225\",\"attributes\":{\"factors\":[\"Female\",\"Male\",\"Female\",\"Male\",\"Female\",\"Male\"]}},\"y_range\":{\"type\":\"object\",\"name\":\"DataRange1d\",\"id\":\"p8217\"},\"x_scale\":{\"type\":\"object\",\"name\":\"CategoricalScale\",\"id\":\"p8229\"},\"y_scale\":{\"type\":\"object\",\"name\":\"LinearScale\",\"id\":\"p8231\"},\"title\":{\"type\":\"object\",\"name\":\"Title\",\"id\":\"p8218\",\"attributes\":{\"text\":\"Cinsiyete G\\u00f6re Toplam Al\\u0131\\u015fveri\\u015f Miktar\\u0131\"}},\"renderers\":[{\"type\":\"object\",\"name\":\"GlyphRenderer\",\"id\":\"p8267\",\"attributes\":{\"data_source\":{\"type\":\"object\",\"name\":\"ColumnDataSource\",\"id\":\"p8212\",\"attributes\":{\"selected\":{\"type\":\"object\",\"name\":\"Selection\",\"id\":\"p8214\",\"attributes\":{\"indices\":[],\"line_indices\":[]}},\"selection_policy\":{\"type\":\"object\",\"name\":\"UnionRenderers\",\"id\":\"p8213\"},\"data\":{\"type\":\"map\",\"entries\":[[\"index\",{\"type\":\"ndarray\",\"array\":{\"type\":\"bytes\",\"data\":\"AAAAAAEAAAACAAAAAwAAAAQAAAAFAAAA\"},\"shape\":[6],\"dtype\":\"int32\",\"order\":\"little\"}],[\"age_category\",{\"type\":\"ndarray\",\"array\":[\"middle\",\"middle\",\"old\",\"old\",\"young\",\"young\"],\"shape\":[6],\"dtype\":\"object\",\"order\":\"little\"}],[\"gender\",{\"type\":\"ndarray\",\"array\":[\"Female\",\"Male\",\"Female\",\"Male\",\"Female\",\"Male\"],\"shape\":[6],\"dtype\":\"object\",\"order\":\"little\"}],[\"age\",{\"type\":\"ndarray\",\"array\":{\"type\":\"bytes\",\"data\":\"ly8OANZ/CQBrxxMAJEQNAHx5BQAgswMA\"},\"shape\":[6],\"dtype\":\"int32\",\"order\":\"little\"}],[\"quantity\",{\"type\":\"ndarray\",\"array\":{\"type\":\"bytes\",\"data\":\"sQwBAI20AAAm/QAA0KoAAAywAACYdQAA\"},\"shape\":[6],\"dtype\":\"int32\",\"order\":\"little\"}],[\"price\",{\"type\":\"ndarray\",\"array\":{\"type\":\"bytes\",\"data\":\"MzMzUwccbkFmZmbmO3ZkQVK4Hr1bP2xBhetRkEIeY0G4HoUj2LZjQbgehSs+M1pB\"},\"shape\":[6],\"dtype\":\"float64\",\"order\":\"little\"}],[\"total_price\",{\"type\":\"ndarray\",\"array\":{\"type\":\"bytes\",\"data\":\"9ihcd+6Ii0E9CtcnO8qCQXsUrmlx84lBPQrXuZGWgUFSuB4fdSOCQbgehWOE2XdB\"},\"shape\":[6],\"dtype\":\"float64\",\"order\":\"little\"}]]}}},\"view\":{\"type\":\"object\",\"name\":\"CDSView\",\"id\":\"p8268\",\"attributes\":{\"filter\":{\"type\":\"object\",\"name\":\"AllIndices\",\"id\":\"p8269\"}}},\"glyph\":{\"type\":\"object\",\"name\":\"VBar\",\"id\":\"p8264\",\"attributes\":{\"x\":{\"type\":\"field\",\"field\":\"gender\"},\"width\":{\"type\":\"value\",\"value\":0.5},\"top\":{\"type\":\"field\",\"field\":\"total_price\"},\"line_color\":{\"type\":\"value\",\"value\":\"#1f77b4\"},\"fill_color\":{\"type\":\"value\",\"value\":\"#1f77b4\"}}},\"nonselection_glyph\":{\"type\":\"object\",\"name\":\"VBar\",\"id\":\"p8265\",\"attributes\":{\"x\":{\"type\":\"field\",\"field\":\"gender\"},\"width\":{\"type\":\"value\",\"value\":0.5},\"top\":{\"type\":\"field\",\"field\":\"total_price\"},\"line_color\":{\"type\":\"value\",\"value\":\"#1f77b4\"},\"line_alpha\":{\"type\":\"value\",\"value\":0.1},\"fill_color\":{\"type\":\"value\",\"value\":\"#1f77b4\"},\"fill_alpha\":{\"type\":\"value\",\"value\":0.1},\"hatch_alpha\":{\"type\":\"value\",\"value\":0.1}}},\"muted_glyph\":{\"type\":\"object\",\"name\":\"VBar\",\"id\":\"p8266\",\"attributes\":{\"x\":{\"type\":\"field\",\"field\":\"gender\"},\"width\":{\"type\":\"value\",\"value\":0.5},\"top\":{\"type\":\"field\",\"field\":\"total_price\"},\"line_color\":{\"type\":\"value\",\"value\":\"#1f77b4\"},\"line_alpha\":{\"type\":\"value\",\"value\":0.2},\"fill_color\":{\"type\":\"value\",\"value\":\"#1f77b4\"},\"fill_alpha\":{\"type\":\"value\",\"value\":0.2},\"hatch_alpha\":{\"type\":\"value\",\"value\":0.2}}}}}],\"toolbar\":{\"type\":\"object\",\"name\":\"Toolbar\",\"id\":\"p8221\",\"attributes\":{\"tools\":[{\"type\":\"object\",\"name\":\"PanTool\",\"id\":\"p8246\"},{\"type\":\"object\",\"name\":\"WheelZoomTool\",\"id\":\"p8247\"},{\"type\":\"object\",\"name\":\"BoxZoomTool\",\"id\":\"p8248\",\"attributes\":{\"overlay\":{\"type\":\"object\",\"name\":\"BoxAnnotation\",\"id\":\"p8249\",\"attributes\":{\"syncable\":false,\"level\":\"overlay\",\"visible\":false,\"left_units\":\"canvas\",\"right_units\":\"canvas\",\"bottom_units\":\"canvas\",\"top_units\":\"canvas\",\"line_color\":\"black\",\"line_alpha\":1.0,\"line_width\":2,\"line_dash\":[4,4],\"fill_color\":\"lightgrey\",\"fill_alpha\":0.5}}}},{\"type\":\"object\",\"name\":\"SaveTool\",\"id\":\"p8250\"},{\"type\":\"object\",\"name\":\"ResetTool\",\"id\":\"p8251\"},{\"type\":\"object\",\"name\":\"HelpTool\",\"id\":\"p8252\"}]}},\"left\":[{\"type\":\"object\",\"name\":\"LinearAxis\",\"id\":\"p8239\",\"attributes\":{\"ticker\":{\"type\":\"object\",\"name\":\"BasicTicker\",\"id\":\"p8242\",\"attributes\":{\"mantissas\":[1,2,5]}},\"formatter\":{\"type\":\"object\",\"name\":\"BasicTickFormatter\",\"id\":\"p8241\"},\"axis_label\":\"Toplam Al\\u0131\\u015fveri\\u015f Hacmi\",\"major_label_policy\":{\"type\":\"object\",\"name\":\"AllLabels\",\"id\":\"p8240\"}}}],\"below\":[{\"type\":\"object\",\"name\":\"CategoricalAxis\",\"id\":\"p8233\",\"attributes\":{\"ticker\":{\"type\":\"object\",\"name\":\"CategoricalTicker\",\"id\":\"p8236\"},\"formatter\":{\"type\":\"object\",\"name\":\"CategoricalTickFormatter\",\"id\":\"p8235\"},\"axis_label\":\"Cinsiyet\",\"major_label_policy\":{\"type\":\"object\",\"name\":\"AllLabels\",\"id\":\"p8234\"}}}],\"center\":[{\"type\":\"object\",\"name\":\"Grid\",\"id\":\"p8238\",\"attributes\":{\"axis\":{\"id\":\"p8233\"}}},{\"type\":\"object\",\"name\":\"Grid\",\"id\":\"p8245\",\"attributes\":{\"dimension\":1,\"axis\":{\"id\":\"p8239\"}}}]}}],\"callbacks\":{\"type\":\"map\"}}};\n  const render_items = [{\"docid\":\"9381a9cc-2c24-4020-b3d7-ba3a90d5b0ad\",\"roots\":{\"p8215\":\"f0e49d2a-4cc7-4c0b-84fa-e0e646176c28\"},\"root_ids\":[\"p8215\"]}];\n  root.Bokeh.embed.embed_items_notebook(docs_json, render_items);\n  }\n  if (root.Bokeh !== undefined) {\n    embed_document(root);\n  } else {\n    let attempts = 0;\n    const timer = setInterval(function(root) {\n      if (root.Bokeh !== undefined) {\n        clearInterval(timer);\n        embed_document(root);\n      } else {\n        attempts++;\n        if (attempts > 100) {\n          clearInterval(timer);\n          console.log(\"Bokeh: ERROR: Unable to run BokehJS code because BokehJS library is missing\");\n        }\n      }\n    }, 10, root)\n  }\n})(window);",
      "application/vnd.bokehjs_exec.v0+json": ""
     },
     "metadata": {
      "application/vnd.bokehjs_exec.v0+json": {
       "id": "p8215"
      }
     },
     "output_type": "display_data"
    }
   ],
   "source": [
    "# Cinsiyete göre alışveriş miktarını hesaplayın\n",
    "grouped_df = data.groupby(['age_category']).sum().reset_index()\n",
    "grouped_df2 = data.groupby(['gender']).sum().reset_index()\n",
    "\n",
    "\n",
    "# Verileri Bokeh veri kaynağına aktarın\n",
    "source = ColumnDataSource(grouped_df)\n",
    "\n",
    "# Bokeh figürünü oluşturun\n",
    "p = figure(title='Cinsiyete Göre Toplam Alışveriş Miktarı', x_range=grouped_df['gender'], width=800, height=400)\n",
    "\n",
    "# Çubuk grafiklerini oluşturun\n",
    "p.vbar(x='gender', top='total_price', source=source, width=0.5)\n",
    "\n",
    "# Eksen etiketlerini ayarlayın\n",
    "p.xaxis.axis_label = 'Cinsiyet'\n",
    "p.yaxis.axis_label = 'Toplam Alışveriş Hacmi'\n",
    "\n",
    "# Grafikleri gösterin\n",
    "show(p)"
   ]
  },
  {
   "cell_type": "code",
   "execution_count": null,
   "metadata": {},
   "outputs": [],
   "source": []
  }
 ],
 "metadata": {
  "kernelspec": {
   "display_name": "Python 3",
   "language": "python",
   "name": "python3"
  },
  "language_info": {
   "codemirror_mode": {
    "name": "ipython",
    "version": 3
   },
   "file_extension": ".py",
   "mimetype": "text/x-python",
   "name": "python",
   "nbconvert_exporter": "python",
   "pygments_lexer": "ipython3",
   "version": "3.11.2"
  },
  "orig_nbformat": 4
 },
 "nbformat": 4,
 "nbformat_minor": 2
}
